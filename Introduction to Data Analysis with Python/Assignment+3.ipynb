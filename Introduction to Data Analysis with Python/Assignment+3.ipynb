{
 "cells": [
  {
   "cell_type": "markdown",
   "metadata": {},
   "source": [
    "---\n",
    "\n",
    "_You are currently looking at **version 1.5** of this notebook. To download notebooks and datafiles, as well as get help on Jupyter notebooks in the Coursera platform, visit the [Jupyter Notebook FAQ](https://www.coursera.org/learn/python-data-analysis/resources/0dhYG) course resource._\n",
    "\n",
    "---"
   ]
  },
  {
   "cell_type": "markdown",
   "metadata": {},
   "source": [
    "# Assignment 3 - More Pandas\n",
    "This assignment requires more individual learning then the last one did - you are encouraged to check out the [pandas documentation](http://pandas.pydata.org/pandas-docs/stable/) to find functions or methods you might not have used yet, or ask questions on [Stack Overflow](http://stackoverflow.com/) and tag them as pandas and python related. And of course, the discussion forums are open for interaction with your peers and the course staff."
   ]
  },
  {
   "cell_type": "markdown",
   "metadata": {},
   "source": [
    "### Question 1 (20%)\n",
    "Load the energy data from the file `Energy Indicators.xls`, which is a list of indicators of [energy supply and renewable electricity production](Energy%20Indicators.xls) from the [United Nations](http://unstats.un.org/unsd/environment/excel_file_tables/2013/Energy%20Indicators.xls) for the year 2013, and should be put into a DataFrame with the variable name of **energy**.\n",
    "\n",
    "Keep in mind that this is an Excel file, and not a comma separated values file. Also, make sure to exclude the footer and header information from the datafile. The first two columns are unneccessary, so you should get rid of them, and you should change the column labels so that the columns are:\n",
    "\n",
    "`['Country', 'Energy Supply', 'Energy Supply per Capita', '% Renewable']`\n",
    "\n",
    "Convert `Energy Supply` to gigajoules (there are 1,000,000 gigajoules in a petajoule). For all countries which have missing data (e.g. data with \"...\") make sure this is reflected as `np.NaN` values.\n",
    "\n",
    "Rename the following list of countries (for use in later questions):\n",
    "\n",
    "```\"Republic of Korea\": \"South Korea\",\n",
    "\"United States of America\": \"United States\",\n",
    "\"United Kingdom of Great Britain and Northern Ireland\": \"United Kingdom\",\n",
    "\"China, Hong Kong Special Administrative Region\": \"Hong Kong\"```\n",
    "\n",
    "There are also several countries with numbers and/or parenthesis in their name. Be sure to remove these, \n",
    "\n",
    "e.g. \n",
    "\n",
    "`'Bolivia (Plurinational State of)'` should be `'Bolivia'`, \n",
    "\n",
    "`'Switzerland17'` should be `'Switzerland'`.\n",
    "\n",
    "<br>\n",
    "\n",
    "Next, load the GDP data from the file `world_bank.csv`, which is a csv containing countries' GDP from 1960 to 2015 from [World Bank](http://data.worldbank.org/indicator/NY.GDP.MKTP.CD). Call this DataFrame **GDP**. \n",
    "\n",
    "Make sure to skip the header, and rename the following list of countries:\n",
    "\n",
    "```\"Korea, Rep.\": \"South Korea\", \n",
    "\"Iran, Islamic Rep.\": \"Iran\",\n",
    "\"Hong Kong SAR, China\": \"Hong Kong\"```\n",
    "\n",
    "<br>\n",
    "\n",
    "Finally, load the [Sciamgo Journal and Country Rank data for Energy Engineering and Power Technology](http://www.scimagojr.com/countryrank.php?category=2102) from the file `scimagojr-3.xlsx`, which ranks countries based on their journal contributions in the aforementioned area. Call this DataFrame **ScimEn**.\n",
    "\n",
    "Join the three datasets: GDP, Energy, and ScimEn into a new dataset (using the intersection of country names). Use only the last 10 years (2006-2015) of GDP data and only the top 15 countries by Scimagojr 'Rank' (Rank 1 through 15). \n",
    "\n",
    "The index of this DataFrame should be the name of the country, and the columns should be ['Rank', 'Documents', 'Citable documents', 'Citations', 'Self-citations',\n",
    "       'Citations per document', 'H index', 'Energy Supply',\n",
    "       'Energy Supply per Capita', '% Renewable', '2006', '2007', '2008',\n",
    "       '2009', '2010', '2011', '2012', '2013', '2014', '2015'].\n",
    "\n",
    "*This function should return a DataFrame with 20 columns and 15 entries.*"
   ]
  },
  {
   "cell_type": "code",
   "execution_count": 57,
   "metadata": {
    "collapsed": true,
    "umich_part_id": "009",
    "umich_partlist_id": "003"
   },
   "outputs": [],
   "source": [
    "import pandas as pd\n",
    "def answer_one():\n",
    "    \n",
    "    #Energy\n",
    "    colnames = ['Country',\n",
    "               'Energy Supply',\n",
    "               'Energy Supply per Capita',\n",
    "               '% Renewable']\n",
    "    energy = pd.read_excel('Energy Indicators.xls',\n",
    "                           skiprows=18,\n",
    "                           skipfooter=38,\n",
    "                           header=None,\n",
    "                           usecols=[i for i in range(2,6)],\n",
    "                           na_values = '...',\n",
    "                           names = colnames)\n",
    "    # Peta -> Giga\n",
    "    energy['Energy Supply'] = energy['Energy Supply']*1000000\n",
    "    \n",
    "    # Retirando numeros dos nomes\n",
    "    energy['Country'] = energy['Country'].str.replace('\\d+', '')\n",
    "    \n",
    "    # Retirando parentes\n",
    "    energy['Country'] = (energy['Country']\n",
    "                         .str.replace(r\"\\(.*\\)\",\"\")\n",
    "                         .str.strip())\n",
    "    \n",
    "    # Renomear\n",
    "    rename = {\"Republic of Korea\": \"South Korea\",\n",
    "              \"United States of America\": \"United States\",\n",
    "              \"United Kingdom of Great Britain and Northern Ireland\": \"United Kingdom\",\n",
    "              \"China, Hong Kong Special Administrative Region\": \"Hong Kong\"}\n",
    "    energy['Country'] = energy['Country'].replace(rename)\n",
    "                            \n",
    "    \n",
    "    #GDP\n",
    "    GDP = (pd.read_csv('world_bank.csv',\n",
    "                      skiprows=5,\n",
    "                      header=None)\n",
    "                      .drop([i for i in range(1,50)], axis = 'columns'))\n",
    "    \n",
    "    # Rename col\n",
    "    colnames = ['Country']+[str(i) for i in range(2006,2016)]\n",
    "    GDP = GDP.rename(columns={x:y for x,y in zip(GDP.columns,colnames)})\n",
    "\n",
    "    # Renomear\n",
    "    rename = {\"Korea, Rep.\": \"South Korea\",\n",
    "              \"Iran, Islamic Rep.\": \"Iran\",\n",
    "              \"Hong Kong SAR, China\": \"Hong Kong\"}\n",
    "    GDP['Country'] = GDP['Country'].replace(rename)\n",
    "    \n",
    "    # ScimEn\n",
    "    ScimEn = pd.read_excel('scimagojr-3.xlsx',\n",
    "                           header=0)\n",
    "    ScimEn = ScimEn.drop([i for i in range(15,len(ScimEn.index))], axis = 'index')\n",
    "    # Merge\n",
    "    ScimEn = pd.merge( ScimEn, energy, how='inner', left_on='Country', right_on='Country')\n",
    "    ScimEn = pd.merge( ScimEn, GDP, how='inner', left_on='Country', right_on='Country')\n",
    "    \n",
    "    # Index\n",
    "    ScimEn = ScimEn.set_index(['Country'])\n",
    "    return ScimEn"
   ]
  },
  {
   "cell_type": "markdown",
   "metadata": {},
   "source": [
    "### Question 2 (6.6%)\n",
    "The previous question joined three datasets then reduced this to just the top 15 entries. When you joined the datasets, but before you reduced this to the top 15 items, how many entries did you lose?\n",
    "\n",
    "*This function should return a single number.*"
   ]
  },
  {
   "cell_type": "code",
   "execution_count": 58,
   "metadata": {},
   "outputs": [
    {
     "data": {
      "text/html": [
       "<svg width=\"800\" height=\"300\">\n",
       "  <circle cx=\"150\" cy=\"180\" r=\"80\" fill-opacity=\"0.2\" stroke=\"black\" stroke-width=\"2\" fill=\"blue\" />\n",
       "  <circle cx=\"200\" cy=\"100\" r=\"80\" fill-opacity=\"0.2\" stroke=\"black\" stroke-width=\"2\" fill=\"red\" />\n",
       "  <circle cx=\"100\" cy=\"100\" r=\"80\" fill-opacity=\"0.2\" stroke=\"black\" stroke-width=\"2\" fill=\"green\" />\n",
       "  <line x1=\"150\" y1=\"125\" x2=\"300\" y2=\"150\" stroke=\"black\" stroke-width=\"2\" fill=\"black\" stroke-dasharray=\"5,3\"/>\n",
       "  <text  x=\"300\" y=\"165\" font-family=\"Verdana\" font-size=\"35\">Everything but this!</text>\n",
       "</svg>"
      ],
      "text/plain": [
       "<IPython.core.display.HTML object>"
      ]
     },
     "metadata": {},
     "output_type": "display_data"
    }
   ],
   "source": [
    "%%HTML\n",
    "<svg width=\"800\" height=\"300\">\n",
    "  <circle cx=\"150\" cy=\"180\" r=\"80\" fill-opacity=\"0.2\" stroke=\"black\" stroke-width=\"2\" fill=\"blue\" />\n",
    "  <circle cx=\"200\" cy=\"100\" r=\"80\" fill-opacity=\"0.2\" stroke=\"black\" stroke-width=\"2\" fill=\"red\" />\n",
    "  <circle cx=\"100\" cy=\"100\" r=\"80\" fill-opacity=\"0.2\" stroke=\"black\" stroke-width=\"2\" fill=\"green\" />\n",
    "  <line x1=\"150\" y1=\"125\" x2=\"300\" y2=\"150\" stroke=\"black\" stroke-width=\"2\" fill=\"black\" stroke-dasharray=\"5,3\"/>\n",
    "  <text  x=\"300\" y=\"165\" font-family=\"Verdana\" font-size=\"35\">Everything but this!</text>\n",
    "</svg>"
   ]
  },
  {
   "cell_type": "code",
   "execution_count": 59,
   "metadata": {
    "collapsed": true,
    "umich_part_id": "010",
    "umich_partlist_id": "003"
   },
   "outputs": [],
   "source": [
    "import pandas as pd\n",
    "def answer_two():\n",
    "    #Energy\n",
    "    colnames = ['Country',\n",
    "               'Energy Supply',\n",
    "               'Energy Supply per Capita',\n",
    "               '% Renewable']\n",
    "    energy = pd.read_excel('Energy Indicators.xls',\n",
    "                           skiprows=18,\n",
    "                           skipfooter=38,\n",
    "                           header=None,\n",
    "                           usecols=[i for i in range(2,6)],\n",
    "                           na_values = '...',\n",
    "                           names = colnames)\n",
    "    # Peta -> Giga\n",
    "    energy['Energy Supply'] = energy['Energy Supply']*1000000\n",
    "    \n",
    "    # Retirando numeros dos nomes\n",
    "    energy['Country'] = energy['Country'].str.replace('\\d+', '')\n",
    "    \n",
    "    # Retirando parentes\n",
    "    energy['Country'] = (energy['Country']\n",
    "                         .str.replace(r\"\\(.*\\)\",\"\")\n",
    "                         .str.strip())\n",
    "    \n",
    "    # Renomear\n",
    "    rename = {\"Republic of Korea\": \"South Korea\",\n",
    "              \"United States of America\": \"United States\",\n",
    "              \"United Kingdom of Great Britain and Northern Ireland\": \"United Kingdom\",\n",
    "              \"China, Hong Kong Special Administrative Region\": \"Hong Kong\"}\n",
    "    energy['Country'] = energy['Country'].replace(rename)\n",
    "                            \n",
    "    \n",
    "    #GDP\n",
    "    GDP = (pd.read_csv('world_bank.csv',\n",
    "                      skiprows=5,\n",
    "                      header=None)\n",
    "                      .drop([i for i in range(1,50)], axis = 'columns'))\n",
    "    \n",
    "    # Rename col\n",
    "    colnames = ['Country']+[str(i) for i in range(2006,2016)]\n",
    "    GDP = GDP.rename(columns={x:y for x,y in zip(GDP.columns,colnames)})\n",
    "    \n",
    "    # Renomear\n",
    "    rename = {\"Korea, Rep.\": \"South Korea\",\n",
    "              \"Iran, Islamic Rep.\": \"Iran\",\n",
    "              \"Hong Kong SAR, China\": \"Hong Kong\"}\n",
    "    GDP['Country'] = GDP['Country'].replace(rename)\n",
    "    \n",
    "    # ScimEn\n",
    "    ScimEn = pd.read_excel('scimagojr-3.xlsx',\n",
    "                           header=0)\n",
    "    #ScimEn = ScimEn.drop([i for i in range(15,len(ScimEn.index))], axis = 'index')\n",
    "    # Merge\n",
    "    Inner = pd.merge( ScimEn, energy, how='inner', left_on='Country', right_on='Country')\n",
    "    Inner = pd.merge( Inner, GDP, how='inner', left_on='Country', right_on='Country')\n",
    "    \n",
    "    Outer = pd.merge( ScimEn, energy, how='outer', left_on='Country', right_on='Country')\n",
    "    Outer = pd.merge( Outer, GDP, how='outer', left_on='Country', right_on='Country')\n",
    "    \n",
    "    return Outer.shape[0]-Inner.shape[0]"
   ]
  },
  {
   "cell_type": "markdown",
   "metadata": {},
   "source": [
    "## Answer the following questions in the context of only the top 15 countries by Scimagojr Rank (aka the DataFrame returned by `answer_one()`)"
   ]
  },
  {
   "cell_type": "markdown",
   "metadata": {},
   "source": [
    "### Question 3 (6.6%)\n",
    "What is the average GDP over the last 10 years for each country? (exclude missing values from this calculation.)\n",
    "\n",
    "*This function should return a Series named `avgGDP` with 15 countries and their average GDP sorted in descending order.*"
   ]
  },
  {
   "cell_type": "code",
   "execution_count": 60,
   "metadata": {
    "collapsed": true,
    "scrolled": true,
    "umich_part_id": "011",
    "umich_partlist_id": "003"
   },
   "outputs": [],
   "source": [
    "def answer_three():\n",
    "    \n",
    "    # Utiliza a resposta da primeira questão para produzir o dataframe onde serão feitas as estatisticas\n",
    "    Top15 = answer_one()\n",
    "    \n",
    "    # Produz uma lista de colunas para serem avaliadas\n",
    "    colnames = [str(i) for i in range(2006,2016)]\n",
    "    \n",
    "    # Produz a serie a partir das colunas 'colnames'\n",
    "    avgGDP = (Top15[colnames]\n",
    "              \n",
    "              # Obtem a média para os 10 anos desconsideram valores NaN\n",
    "              .apply(lambda x: np.nanmean(x[colnames]), axis=1)\n",
    "              \n",
    "              # Organiza os valores de maneira decrescente\n",
    "              .sort_values(ascending = False))\n",
    "    return avgGDP"
   ]
  },
  {
   "cell_type": "markdown",
   "metadata": {},
   "source": [
    "### Question 4 (6.6%)\n",
    "By how much had the GDP changed over the 10 year span for the country with the 6th largest average GDP?\n",
    "\n",
    "*This function should return a single number.*"
   ]
  },
  {
   "cell_type": "code",
   "execution_count": 61,
   "metadata": {
    "collapsed": true,
    "scrolled": true,
    "umich_part_id": "012",
    "umich_partlist_id": "003"
   },
   "outputs": [],
   "source": [
    "import numpy as np\n",
    "\n",
    "def answer_four():\n",
    "    Top15 = answer_one()\n",
    "    \n",
    "    # Utiliza a resposta da questão tres para obter o key do pais com o sexto maior GDP\n",
    "    sixth_key = ((answer_three()).keys()[5])\n",
    "    \n",
    "    # Faz a diferença dos valores de GDP de 2006 e 2015 utilizando o key obtido\n",
    "    return ((Top15[['2006','2015']]).loc[sixth_key].diff())[1]"
   ]
  },
  {
   "cell_type": "markdown",
   "metadata": {},
   "source": [
    "### Question 5 (6.6%)\n",
    "What is the mean `Energy Supply per Capita`?\n",
    "\n",
    "*This function should return a single number.*"
   ]
  },
  {
   "cell_type": "code",
   "execution_count": 62,
   "metadata": {
    "collapsed": true,
    "umich_part_id": "013",
    "umich_partlist_id": "003"
   },
   "outputs": [],
   "source": [
    "def answer_five():\n",
    "    Top15 = answer_one()\n",
    "    \n",
    "    # retorna a média do valor  de Energia\n",
    "    return np.mean(Top15['Energy Supply per Capita'])"
   ]
  },
  {
   "cell_type": "markdown",
   "metadata": {},
   "source": [
    "### Question 6 (6.6%)\n",
    "What country has the maximum % Renewable and what is the percentage?\n",
    "\n",
    "*This function should return a tuple with the name of the country and the percentage.*"
   ]
  },
  {
   "cell_type": "code",
   "execution_count": 63,
   "metadata": {
    "collapsed": true,
    "umich_part_id": "014",
    "umich_partlist_id": "003"
   },
   "outputs": [],
   "source": [
    "def answer_six():\n",
    "    Top15 = answer_one()\n",
    "    \n",
    "    # (Usa o metodo idxmax() para retornar o key associado ao valor maximo,\n",
    "    #  Usa o metodo max() para retonar o maior valor de '% Renewable')\n",
    "    maxRenew = (Top15['% Renewable'].idxmax(),Top15['% Renewable'].max())\n",
    "    return maxRenew"
   ]
  },
  {
   "cell_type": "markdown",
   "metadata": {},
   "source": [
    "### Question 7 (6.6%)\n",
    "Create a new column that is the ratio of Self-Citations to Total Citations. \n",
    "What is the maximum value for this new column, and what country has the highest ratio?\n",
    "\n",
    "*This function should return a tuple with the name of the country and the ratio.*"
   ]
  },
  {
   "cell_type": "code",
   "execution_count": 64,
   "metadata": {
    "collapsed": true,
    "umich_part_id": "015",
    "umich_partlist_id": "003"
   },
   "outputs": [],
   "source": [
    "import numpy as np\n",
    "\n",
    "def answer_seven():\n",
    "    \n",
    "    # Obtem o df com os field's 'Citations' e 'Self-Citations'\n",
    "    Top15 = answer_one()\n",
    "    colnames= ['Citations','Self-citations']\n",
    "    \n",
    "    # Produz uma nova coluna com a razão de 'Self-Citations' por 'Citations'\n",
    "    Top15['CitRatio'] = np.divide(Top15[colnames[1]],Top15[colnames[0]])\n",
    "    \n",
    "    # ( (Usa o metodo idxmax() para retornar o key associado ao valor maximo,\n",
    "    #  Usa o metodo max() para retonar o maior valor de 'CitRatio')\n",
    "    return (Top15['CitRatio'].idxmax(),Top15['CitRatio'].max())"
   ]
  },
  {
   "cell_type": "markdown",
   "metadata": {},
   "source": [
    "### Question 8 (6.6%)\n",
    "\n",
    "Create a column that estimates the population using Energy Supply and Energy Supply per capita. \n",
    "What is the third most populous country according to this estimate?\n",
    "\n",
    "*This function should return a single string value.*"
   ]
  },
  {
   "cell_type": "code",
   "execution_count": 65,
   "metadata": {
    "collapsed": true,
    "umich_part_id": "016",
    "umich_partlist_id": "003"
   },
   "outputs": [],
   "source": [
    "def answer_eight():\n",
    "    \n",
    "    # Obtem o df com os field's presentes na lista colnames\n",
    "    Top15 = answer_one()\n",
    "    colnames= ['Energy Supply','Energy Supply per Capita']\n",
    "    \n",
    "    # Produz a coluna de estimativa de população\n",
    "    Top15['PopEst'] = np.divide(Top15[colnames[0]],Top15[colnames[1]])\n",
    "    \n",
    "    # Organiza a serie com o metodo sort e exibe a terceira entrada\n",
    "    return (Top15['PopEst']\n",
    "            .sort_values(ascending=False)\n",
    "            .keys()[2])"
   ]
  },
  {
   "cell_type": "markdown",
   "metadata": {},
   "source": [
    "### Question 9 (6.6%)\n",
    "Create a column that estimates the number of citable documents per person. \n",
    "What is the correlation between the number of citable documents per capita and the energy supply per capita? Use the `.corr()` method, (Pearson's correlation).\n",
    "\n",
    "*This function should return a single number.*\n",
    "\n",
    "*(Optional: Use the built-in function `plot9()` to visualize the relationship between Energy Supply per Capita vs. Citable docs per Capita)*"
   ]
  },
  {
   "cell_type": "code",
   "execution_count": 66,
   "metadata": {
    "collapsed": true,
    "umich_part_id": "017",
    "umich_partlist_id": "003"
   },
   "outputs": [],
   "source": [
    "def answer_nine():\n",
    "    Top15 = answer_one()\n",
    "    \n",
    "    # Produz coluna de estimativa da população\n",
    "    Top15['PopEst'] = Top15['Energy Supply'] / Top15['Energy Supply per Capita']\n",
    "    \n",
    "    # Produza a estimativa de documentos citaveis por per capita\n",
    "    Top15['Citable docs per Capita'] = Top15['Citable documents'] / Top15['PopEst']\n",
    "    #plot9()\n",
    "    \n",
    "    # aplica o metodo corr para obter a correlação utilizando o metodo de pearson\n",
    "    return Top15[['Energy Supply per Capita','Citable docs per Capita']].corr(method='pearson').iloc[0,1]"
   ]
  },
  {
   "cell_type": "code",
   "execution_count": 67,
   "metadata": {
    "collapsed": true
   },
   "outputs": [],
   "source": [
    "def plot9():\n",
    "    import matplotlib as plt\n",
    "    %matplotlib inline\n",
    "    \n",
    "    Top15 = answer_one()\n",
    "    Top15['PopEst'] = Top15['Energy Supply'] / Top15['Energy Supply per Capita']\n",
    "    Top15['Citable docs per Capita'] = Top15['Citable documents'] / Top15['PopEst']\n",
    "    Top15.plot(x='Citable docs per Capita', y='Energy Supply per Capita', kind='scatter', xlim=[0, 0.0006])"
   ]
  },
  {
   "cell_type": "code",
   "execution_count": 68,
   "metadata": {
    "collapsed": true
   },
   "outputs": [],
   "source": [
    "#plot9() # Be sure to comment out plot9() before submitting the assignment!"
   ]
  },
  {
   "cell_type": "markdown",
   "metadata": {},
   "source": [
    "### Question 10 (6.6%)\n",
    "Create a new column with a 1 if the country's % Renewable value is at or above the median for all countries in the top 15, and a 0 if the country's % Renewable value is below the median.\n",
    "\n",
    "*This function should return a series named `HighRenew` whose index is the country name sorted in ascending order of rank.*"
   ]
  },
  {
   "cell_type": "code",
   "execution_count": 69,
   "metadata": {
    "collapsed": true,
    "umich_part_id": "018",
    "umich_partlist_id": "003"
   },
   "outputs": [],
   "source": [
    "def answer_ten():\n",
    "    Top15 = answer_one()\n",
    "    \n",
    "    # Produz a nova coluna 'HighRenew' utilizando o condicional para cada entrada e os metodos median para obter \n",
    "    # mediana e astype para inserir o booleano com int na coluna\n",
    "    Top15['HighRenew'] = ((Top15['% Renewable']>=Top15['% Renewable']\n",
    "                          .median())\n",
    "                          .astype(int))\n",
    "    return Top15['HighRenew']"
   ]
  },
  {
   "cell_type": "markdown",
   "metadata": {},
   "source": [
    "### Question 11 (6.6%)\n",
    "Use the following dictionary to group the Countries by Continent, then create a dateframe that displays the sample size (the number of countries in each continent bin), and the sum, mean, and std deviation for the estimated population of each country.\n",
    "\n",
    "```python\n",
    "ContinentDict  = {'China':'Asia', \n",
    "                  'United States':'North America', \n",
    "                  'Japan':'Asia', \n",
    "                  'United Kingdom':'Europe', \n",
    "                  'Russian Federation':'Europe', \n",
    "                  'Canada':'North America', \n",
    "                  'Germany':'Europe', \n",
    "                  'India':'Asia',\n",
    "                  'France':'Europe', \n",
    "                  'South Korea':'Asia', \n",
    "                  'Italy':'Europe', \n",
    "                  'Spain':'Europe', \n",
    "                  'Iran':'Asia',\n",
    "                  'Australia':'Australia', \n",
    "                  'Brazil':'South America'}\n",
    "```\n",
    "\n",
    "*This function should return a DataFrame with index named Continent `['Asia', 'Australia', 'Europe', 'North America', 'South America']` and columns `['size', 'sum', 'mean', 'std']`*"
   ]
  },
  {
   "cell_type": "code",
   "execution_count": 70,
   "metadata": {
    "collapsed": true,
    "umich_part_id": "019",
    "umich_partlist_id": "003"
   },
   "outputs": [],
   "source": [
    "import numpy as np\n",
    "def answer_eleven():\n",
    "    Top15 = answer_one()\n",
    "    ContinentDict  = {'China':'Asia', \n",
    "                  'United States':'North America', \n",
    "                  'Japan':'Asia', \n",
    "                  'United Kingdom':'Europe', \n",
    "                  'Russian Federation':'Europe', \n",
    "                  'Canada':'North America', \n",
    "                  'Germany':'Europe', \n",
    "                  'India':'Asia',\n",
    "                  'France':'Europe', \n",
    "                  'South Korea':'Asia', \n",
    "                  'Italy':'Europe', \n",
    "                  'Spain':'Europe', \n",
    "                  'Iran':'Asia',\n",
    "                  'Australia':'Australia', \n",
    "                  'Brazil':'South America'}\n",
    "    \n",
    "    # Cria a estimativa da população\n",
    "    Top15['PopEst'] = Top15['Energy Supply'] / Top15['Energy Supply per Capita']\n",
    "    \n",
    "    # Utiliza o dicionario para agrupar por continente com o metodo groupby e o \n",
    "    # metodo agg para produzir as novas colunas\n",
    "    Continents = Top15.groupby(ContinentDict)['PopEst'].agg({'size': np.size,\n",
    "                                                             'sum':np.sum,\n",
    "                                                             'mean':np.mean,\n",
    "                                                             'std':np.std})\n",
    "    return Continents"
   ]
  },
  {
   "cell_type": "markdown",
   "metadata": {},
   "source": [
    "### Question 12 (6.6%)\n",
    "Cut % Renewable into 5 bins. Group Top15 by the Continent, as well as these new % Renewable bins. How many countries are in each of these groups?\n",
    "\n",
    "*This function should return a __Series__ with a MultiIndex of `Continent`, then the bins for `% Renewable`. Do not include groups with no countries.*"
   ]
  },
  {
   "cell_type": "code",
   "execution_count": 71,
   "metadata": {
    "collapsed": true,
    "scrolled": true
   },
   "outputs": [],
   "source": [
    "def answer_twelve():\n",
    "    Top15 = answer_one()\n",
    "    ContinentDict  = {'China':'Asia', \n",
    "                  'United States':'North America', \n",
    "                  'Japan':'Asia', \n",
    "                  'United Kingdom':'Europe', \n",
    "                  'Russian Federation':'Europe', \n",
    "                  'Canada':'North America', \n",
    "                  'Germany':'Europe', \n",
    "                  'India':'Asia',\n",
    "                  'France':'Europe', \n",
    "                  'South Korea':'Asia', \n",
    "                  'Italy':'Europe', \n",
    "                  'Spain':'Europe', \n",
    "                  'Iran':'Asia',\n",
    "                  'Australia':'Australia', \n",
    "                  'Brazil':'South America'}\n",
    "    \n",
    "    # utiliza o metodo cut para dividir os bins e o metodo count para fazer a contagem\n",
    "    Cont  = Top15.groupby([ContinentDict,pd.cut(Top15['% Renewable'],5)]).count()#['% Renewable'].agg({'bin':np.size})\n",
    "    return Cont['Rank'].dropna()"
   ]
  },
  {
   "cell_type": "markdown",
   "metadata": {},
   "source": [
    "### Question 13 (6.6%)\n",
    "Convert the Population Estimate series to a string with thousands separator (using commas). Do not round the results.\n",
    "\n",
    "e.g. 317615384.61538464 -> 317,615,384.61538464\n",
    "\n",
    "*This function should return a Series `PopEst` whose index is the country name and whose values are the population estimate string.*"
   ]
  },
  {
   "cell_type": "code",
   "execution_count": 76,
   "metadata": {
    "collapsed": true,
    "scrolled": true,
    "umich_part_id": "020",
    "umich_partlist_id": "003"
   },
   "outputs": [],
   "source": [
    "def answer_thirteen():\n",
    "    Top15 = answer_one()\n",
    "    Top15['PopEst'] = Top15['Energy Supply'] / Top15['Energy Supply per Capita']\n",
    "    \n",
    "    # Utiliza o metodo map para reformatar as entradas da serie\n",
    "    Resp = Top15['PopEst'].map('{:,}'.format)\n",
    "    return Resp"
   ]
  },
  {
   "cell_type": "markdown",
   "metadata": {},
   "source": [
    "### Optional\n",
    "\n",
    "Use the built in function `plot_optional()` to see an example visualization."
   ]
  },
  {
   "cell_type": "code",
   "execution_count": 73,
   "metadata": {
    "collapsed": true,
    "scrolled": true
   },
   "outputs": [],
   "source": [
    "def plot_optional():\n",
    "    import matplotlib as plt\n",
    "    %matplotlib inline\n",
    "    Top15 = answer_one()\n",
    "    ax = Top15.plot(x='Rank', y='% Renewable', kind='scatter', \n",
    "                    c=['#e41a1c','#377eb8','#e41a1c','#4daf4a','#4daf4a','#377eb8','#4daf4a','#e41a1c',\n",
    "                       '#4daf4a','#e41a1c','#4daf4a','#4daf4a','#e41a1c','#dede00','#ff7f00'], \n",
    "                    xticks=range(1,16), s=6*Top15['2014']/10**10, alpha=.75, figsize=[16,6]);\n",
    "\n",
    "    for i, txt in enumerate(Top15.index):\n",
    "        ax.annotate(txt, [Top15['Rank'][i], Top15['% Renewable'][i]], ha='center')\n",
    "\n",
    "    print(\"This is an example of a visualization that can be created to help understand the data. \\\n",
    "This is a bubble chart showing % Renewable vs. Rank. The size of the bubble corresponds to the countries' \\\n",
    "2014 GDP, and the color corresponds to the continent.\")"
   ]
  },
  {
   "cell_type": "code",
   "execution_count": null,
   "metadata": {
    "collapsed": true
   },
   "outputs": [],
   "source": [
    "#plot_optional() # Be sure to comment out plot_optional() before submitting the assignment!"
   ]
  }
 ],
 "metadata": {
  "anaconda-cloud": {},
  "coursera": {
   "course_slug": "python-data-analysis",
   "graded_item_id": "zAr06",
   "launcher_item_id": "KSSjT",
   "part_id": "SL3fU"
  },
  "kernelspec": {
   "display_name": "Python 3",
   "language": "python",
   "name": "python3"
  },
  "language_info": {
   "codemirror_mode": {
    "name": "ipython",
    "version": 3
   },
   "file_extension": ".py",
   "mimetype": "text/x-python",
   "name": "python",
   "nbconvert_exporter": "python",
   "pygments_lexer": "ipython3",
   "version": "3.7.9"
  },
  "umich": {
   "id": "Assignment 3",
   "version": "1.5"
  }
 },
 "nbformat": 4,
 "nbformat_minor": 1
}
