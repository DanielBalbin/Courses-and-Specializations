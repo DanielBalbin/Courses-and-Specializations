{
 "cells": [
  {
   "cell_type": "markdown",
   "metadata": {},
   "source": [
    "---\n",
    "\n",
    "_You are currently looking at **version 1.1** of this notebook. To download notebooks and datafiles, as well as get help on Jupyter notebooks in the Coursera platform, visit the [Jupyter Notebook FAQ](https://www.coursera.org/learn/python-data-analysis/resources/0dhYG) course resource._\n",
    "\n",
    "---"
   ]
  },
  {
   "cell_type": "code",
   "execution_count": 1,
   "metadata": {
    "collapsed": true
   },
   "outputs": [],
   "source": [
    "import pandas as pd\n",
    "import numpy as np\n",
    "from scipy.stats import ttest_ind"
   ]
  },
  {
   "cell_type": "markdown",
   "metadata": {},
   "source": [
    "# Assignment 4 - Hypothesis Testing\n",
    "This assignment requires more individual learning than previous assignments - you are encouraged to check out the [pandas documentation](http://pandas.pydata.org/pandas-docs/stable/) to find functions or methods you might not have used yet, or ask questions on [Stack Overflow](http://stackoverflow.com/) and tag them as pandas and python related. And of course, the discussion forums are open for interaction with your peers and the course staff.\n",
    "\n",
    "Definitions:\n",
    "* A _quarter_ is a specific three month period, Q1 is January through March, Q2 is April through June, Q3 is July through September, Q4 is October through December.\n",
    "* A _recession_ is defined as starting with two consecutive quarters of GDP decline, and ending with two consecutive quarters of GDP growth.\n",
    "* A _recession bottom_ is the quarter within a recession which had the lowest GDP.\n",
    "* A _university town_ is a city which has a high percentage of university students compared to the total population of the city.\n",
    "\n",
    "**Hypothesis**: University towns have their mean housing prices less effected by recessions. Run a t-test to compare the ratio of the mean price of houses in university towns the quarter before the recession starts compared to the recession bottom. (`price_ratio=quarter_before_recession/recession_bottom`)\n",
    "\n",
    "The following data files are available for this assignment:\n",
    "* From the [Zillow research data site](http://www.zillow.com/research/data/) there is housing data for the United States. In particular the datafile for [all homes at a city level](http://files.zillowstatic.com/research/public/City/City_Zhvi_AllHomes.csv), ```City_Zhvi_AllHomes.csv```, has median home sale prices at a fine grained level.\n",
    "* From the Wikipedia page on college towns is a list of [university towns in the United States](https://en.wikipedia.org/wiki/List_of_college_towns#College_towns_in_the_United_States) which has been copy and pasted into the file ```university_towns.txt```.\n",
    "* From Bureau of Economic Analysis, US Department of Commerce, the [GDP over time](http://www.bea.gov/national/index.htm#gdp) of the United States in current dollars (use the chained value in 2009 dollars), in quarterly intervals, in the file ```gdplev.xls```. For this assignment, only look at GDP data from the first quarter of 2000 onward.\n",
    "\n",
    "Each function in this assignment below is worth 10%, with the exception of ```run_ttest()```, which is worth 50%."
   ]
  },
  {
   "cell_type": "code",
   "execution_count": 2,
   "metadata": {
    "collapsed": true
   },
   "outputs": [],
   "source": [
    "# Use this dictionary to map state names to two letter acronyms\n",
    "states = {'OH': 'Ohio', 'KY': 'Kentucky', 'AS': 'American Samoa', 'NV': 'Nevada', 'WY': 'Wyoming', 'NA': 'National', 'AL': 'Alabama', 'MD': 'Maryland', 'AK': 'Alaska', 'UT': 'Utah', 'OR': 'Oregon', 'MT': 'Montana', 'IL': 'Illinois', 'TN': 'Tennessee', 'DC': 'District of Columbia', 'VT': 'Vermont', 'ID': 'Idaho', 'AR': 'Arkansas', 'ME': 'Maine', 'WA': 'Washington', 'HI': 'Hawaii', 'WI': 'Wisconsin', 'MI': 'Michigan', 'IN': 'Indiana', 'NJ': 'New Jersey', 'AZ': 'Arizona', 'GU': 'Guam', 'MS': 'Mississippi', 'PR': 'Puerto Rico', 'NC': 'North Carolina', 'TX': 'Texas', 'SD': 'South Dakota', 'MP': 'Northern Mariana Islands', 'IA': 'Iowa', 'MO': 'Missouri', 'CT': 'Connecticut', 'WV': 'West Virginia', 'SC': 'South Carolina', 'LA': 'Louisiana', 'KS': 'Kansas', 'NY': 'New York', 'NE': 'Nebraska', 'OK': 'Oklahoma', 'FL': 'Florida', 'CA': 'California', 'CO': 'Colorado', 'PA': 'Pennsylvania', 'DE': 'Delaware', 'NM': 'New Mexico', 'RI': 'Rhode Island', 'MN': 'Minnesota', 'VI': 'Virgin Islands', 'NH': 'New Hampshire', 'MA': 'Massachusetts', 'GA': 'Georgia', 'ND': 'North Dakota', 'VA': 'Virginia'}"
   ]
  },
  {
   "cell_type": "code",
   "execution_count": 3,
   "metadata": {
    "collapsed": true,
    "umich_part_id": "021",
    "umich_partlist_id": "004"
   },
   "outputs": [],
   "source": [
    "def get_list_of_university_towns():\n",
    "    '''Returns a DataFrame of towns and the states they are in from the \n",
    "    university_towns.txt list. The format of the DataFrame should be:\n",
    "    DataFrame( [ [\"Michigan\", \"Ann Arbor\"], [\"Michigan\", \"Yipsilanti\"] ], \n",
    "    columns=[\"State\", \"RegionName\"]  )\n",
    "    \n",
    "    The following cleaning needs to be done:\n",
    "\n",
    "    1. For \"State\", removing characters from \"[\" to the end.\n",
    "    2. For \"RegionName\", when applicable, removing every character from \" (\" to the end.\n",
    "    3. Depending on how you read the data, you may need to remove newline character '\\n'. '''\n",
    "    \n",
    "    ''' Leitura de arquivo basica no python\n",
    "    file = open(\"university_towns.txt\",'r')\n",
    "    print(file.read())'''\n",
    "    \n",
    "    # Leitura do arquivo .txt direto para DataFrame\n",
    "    df = pd.read_csv(\"university_towns.txt\",sep='\\t', header=None)\n",
    "    \n",
    "    df = df[0]\n",
    "    \n",
    "    # Busca da substring '[edit]' presente em todos os estados\n",
    "    sub = '[edit]'    \n",
    "    df_states = (df[df.str.find(sub)>0]\n",
    "                 .str.replace(\"\\[.*\",\"\")\n",
    "                 .str.strip())\n",
    "    \n",
    "    # Enfatizando que é dataframe\n",
    "    df = df.to_frame()\n",
    "    \n",
    "    # Inicialização da key 'State'\n",
    "    df['State'] = '0'\n",
    "    \n",
    "    # Loop para atribuição dos estados baseado na lista de indices do texto como um todo\n",
    "    j = 0\n",
    "    for i in df.index:\n",
    "        if(j+1<len(df_states.index)):\n",
    "            if ((df.index[i]>df_states.index[j])&(df.index[i]<df_states.index[j+1])):\n",
    "                df.loc[i]['State'] = df_states[df_states.index[j]]\n",
    "            if (df.index[i]>=df_states.index[j+1]):\n",
    "                j += 1\n",
    "                df.loc[i]['State'] = df_states[df_states.index[j]]\n",
    "        else:\n",
    "            df.loc[i]['State'] = df_states[df_states.index[j]]\n",
    "    \n",
    "    # Formatação dos nomes de cidade, foi utilizada uma expressão regex onde:\n",
    "    # '\\(' representa alguma instancia do caracter '('\n",
    "    # '.' representa qualquer caracter\n",
    "    # '*' este operador repete a busca anterior até o final da string\n",
    "    # '\\[' representa alguma instancia do caracter '('\n",
    "    # .str.strip() serve para tirar espaços a direita e a esquerda\n",
    "    df[0] = (df[0].str.replace(\"\\(.*\",\"\")\n",
    "             .str.replace(\"\\[.*\",\"\")\n",
    "             .str.strip())\n",
    "    \n",
    "    # Alterando o nome da coluna de regiões\n",
    "    df = df.rename(columns = {0:'RegionName'})\n",
    "    \n",
    "    # Retirando os estados da lista principla e reiniciando os indices\n",
    "    # A função drop recebeu df_states.index que é a lista de indices a serem retirados\n",
    "    df = (df.drop(df_states.index)\n",
    "          .reset_index(drop=True))\n",
    "    \n",
    "    return df[['State','RegionName']]\n",
    "#print(repr(get_list_of_university_towns()))"
   ]
  },
  {
   "cell_type": "code",
   "execution_count": 4,
   "metadata": {
    "collapsed": true,
    "umich_part_id": "022",
    "umich_partlist_id": "004"
   },
   "outputs": [],
   "source": [
    "def get_recession_start():\n",
    "    '''Returns the year and quarter of the recession start time as a \n",
    "    string value in a format such as 2005q3'''\n",
    "    colnames = ['Quarter',\n",
    "               'GDP_Current']\n",
    "    \n",
    "    # Leitura e formatação do database de GDP\n",
    "    df = (pd.read_excel('gdplev.xls',\n",
    "                       skiprows=5,\n",
    "                       usecols=[i for i in range(4,6)],\n",
    "                       headers=True,\n",
    "                       names = colnames)\n",
    "                       .drop({0,1}).reset_index(drop=True))\n",
    "    \n",
    "    year = '2000q1'\n",
    "    df = df[df['Quarter'].values.tolist().index('2000q1'):].reset_index(drop=True)\n",
    "    \n",
    "    # Loop para encontrar o começo da recessão\n",
    "    for i in df.index:\n",
    "        if (i+2>len(df.index)):\n",
    "            return None\n",
    "        if ((df.loc[i]['GDP_Current']>df.loc[i+1]['GDP_Current'])&(df.loc[i+1]['GDP_Current']>df.loc[i+2]['GDP_Current'])):\n",
    "            return df.loc[i]['Quarter']\n",
    "#print(get_recession_start())"
   ]
  },
  {
   "cell_type": "code",
   "execution_count": 5,
   "metadata": {
    "collapsed": true,
    "umich_part_id": "023",
    "umich_partlist_id": "004"
   },
   "outputs": [],
   "source": [
    "def get_recession_end():\n",
    "    '''Returns the year and quarter of the recession end time as a \n",
    "    string value in a format such as 2005q3'''\n",
    "    colnames = ['Quarter',\n",
    "               'GDP_Current']\n",
    "    \n",
    "    # Leitura e formatação do database de GDP\n",
    "    df = (pd.read_excel('gdplev.xls',\n",
    "                       skiprows=5,\n",
    "                       usecols=[i for i in range(4,6)],\n",
    "                       headers=True,\n",
    "                       names = colnames)\n",
    "                       .drop({0,1}).reset_index(drop=True))\n",
    "    year = '2000q1'\n",
    "    df = df[df['Quarter'].values.tolist().index('2000q1'):].reset_index(drop=True)\n",
    "    \n",
    "    # Obtenção do começo da recessão\n",
    "    reces_start = get_recession_start()\n",
    "    \n",
    "    # Controle para o caso de não ter recessão no periodo\n",
    "    if(reces_start==None):\n",
    "        return None\n",
    "    else:\n",
    "        df = df[df['Quarter'].values.tolist().index(reces_start):].reset_index(drop=True)\n",
    "     \n",
    "    # Loop para encontrar o começo da recessão\n",
    "    for i in df.index:\n",
    "        if (i+2>len(df.index)):\n",
    "            return None\n",
    "        if ((df.loc[i]['GDP_Current']<df.loc[i+1]['GDP_Current'])&(df.loc[i+1]['GDP_Current']<df.loc[i+2]['GDP_Current'])):\n",
    "            return df.loc[i+2]['Quarter']\n",
    "#print(get_recession_end())"
   ]
  },
  {
   "cell_type": "code",
   "execution_count": 6,
   "metadata": {
    "collapsed": true,
    "umich_part_id": "024",
    "umich_partlist_id": "004"
   },
   "outputs": [],
   "source": [
    "def get_recession_bottom():\n",
    "    '''Returns the year and quarter of the recession bottom time as a \n",
    "    string value in a format such as 2005q3'''\n",
    "    colnames = ['Quarter',\n",
    "               'GDP_Current']\n",
    "    # Leitura e formatação do database de GDP\n",
    "    df = (pd.read_excel('gdplev.xls',\n",
    "                       skiprows=5,\n",
    "                       usecols=[i for i in range(4,6)],\n",
    "                       headers=True,\n",
    "                       names = colnames)\n",
    "                       .drop({0,1}).reset_index(drop=True))\n",
    "    year = '2000q1'\n",
    "    df = (df[df['Quarter'].values.tolist().index('2000q1'):]\n",
    "          .reset_index(drop=True))\n",
    "    \n",
    "    # Obtenção do começo e fim da recessão\n",
    "    reces_start = get_recession_start()\n",
    "    reces_end = get_recession_end()\n",
    "    \n",
    "    # Controle para o caso de não ter recessão no periodo ou ela ainda não ter terminado\n",
    "    if((reces_start==None)|(reces_end==None)):\n",
    "        return None\n",
    "    else:\n",
    "        # Obtenção do range de dados para a pesquisa do menor  valor\n",
    "        df = (df[df['Quarter'].values.tolist().index(reces_start):\n",
    "                 df['Quarter'].values.tolist().index(reces_end)]\n",
    "                 .reset_index(drop=True))\n",
    "        \n",
    "    # Obtenção do valor minimo de GDP e de seu indice que é passado no df com os quartis\n",
    "    return df['Quarter'][df['GDP_Current'].idxmin()]\n",
    "#print(get_recession_bottom())"
   ]
  },
  {
   "cell_type": "code",
   "execution_count": 7,
   "metadata": {
    "collapsed": true,
    "umich_part_id": "025",
    "umich_partlist_id": "004"
   },
   "outputs": [],
   "source": [
    "def convert_housing_data_to_quarters():\n",
    "    '''Converts the housing data to quarters and returns it as mean \n",
    "    values in a dataframe. This dataframe should be a dataframe with\n",
    "    columns for 2000q1 through 2016q3, and should have a multi-index\n",
    "    in the shape of [\"State\",\"RegionName\"].\n",
    "    \n",
    "    Note: Quarters are defined in the assignment description, they are\n",
    "    not arbitrary three month periods.\n",
    "    \n",
    "    The resulting dataframe should have 67 columns, and 10,730 rows.\n",
    "    '''\n",
    "    df = pd.read_csv('City_Zhvi_AllHomes.csv')\n",
    "    \n",
    "    # Fazer calculos das médias para cada quadrante\n",
    "    sub = '2000-01'\n",
    "    datas = df[df.columns[df.columns.get_loc(sub):]]\n",
    "    datas.columns = pd.to_datetime(datas.columns)\n",
    "    datas = datas.resample('1q',how='mean',axis=1)\n",
    "    \n",
    "    '''# Determinar os nomes de quadrantes para nomear as colunas(Alternativo)\n",
    "    colnames = []\n",
    "    for i in range(0,17):\n",
    "        if(i<10):\n",
    "            for j in range(1,5):\n",
    "                colnames.append('200{}q{}'.format(i,j))\n",
    "        else:\n",
    "            for j in range(1,5):\n",
    "                colnames.append('20{}q{}'.format(i,j))\n",
    "    colnames.pop(-1)'''\n",
    "    \n",
    "    # Renomeando as colunas de data\n",
    "    \n",
    "    # Isso funciona por que era do tipo datetime\n",
    "    datas = datas.rename(columns=lambda col: '{}q{}'.format(col.year, col.quarter)) \n",
    "    \n",
    "    # Subistituição de sigla para nome de estado e adicionando a coluna ao df\n",
    "    datas['State'] = df['State'].replace(states)\n",
    "    \n",
    "    # Adicionando o campo RegionName ao df\n",
    "    datas['RegionName'] = df['RegionName']\n",
    "    \n",
    "    # Preparando os multiindices\n",
    "    datas = datas.set_index(['State','RegionName'])\n",
    "    return  datas\n",
    "#print(convert_housing_data_to_quarters())"
   ]
  },
  {
   "cell_type": "code",
   "execution_count": 78,
   "metadata": {
    "umich_part_id": "026",
    "umich_partlist_id": "004"
   },
   "outputs": [
    {
     "name": "stdout",
     "output_type": "stream",
     "text": [
      "(True, 0.0033861978483629026, 'university town')\n"
     ]
    }
   ],
   "source": [
    "def run_ttest():\n",
    "    '''First creates new data showing the decline or growth of housing prices\n",
    "    between the recession start and the recession bottom. Then runs a ttest\n",
    "    comparing the university town values to the non-university towns values, \n",
    "    return whether the alternative hypothesis (that the two groups are the same)\n",
    "    is true or not as well as the p-value of the confidence. \n",
    "    \n",
    "    Return the tuple (different, p, better) where different=True if the t-test is\n",
    "    True at a p<0.01 (we reject the null hypothesis), or different=False if \n",
    "    otherwise (we cannot reject the null hypothesis). The variable p should\n",
    "    be equal to the exact p value returned from scipy.stats.ttest_ind(). The\n",
    "    value for better should be either \"university town\" or \"non-university town\"\n",
    "    depending on which has a lower mean price ratio (which is equivilent to a\n",
    "    reduced market loss).'''\n",
    "    \n",
    "    # Obtenção da base de dados\n",
    "    uni_town = get_list_of_university_towns()\n",
    "    housing = convert_housing_data_to_quarters()\n",
    "    reces_start = get_recession_start()\n",
    "    reces_end = get_recession_end()\n",
    "    reces_bottom = get_recession_bottom()\n",
    "    \n",
    "    # Obtenção do range de quartis para a estimativa\n",
    "    housing = housing[housing.columns[housing.columns.get_loc(reces_start)-1:\n",
    "                                      housing.columns.get_loc(reces_end)]]\n",
    "    \n",
    "    # Obtenção dos dataframes para cidades com universidade e sem universidade\n",
    "    uni_housing = pd.merge( uni_town, housing, how='inner', left_on=['State','RegionName'], right_index=True).reset_index(drop=True)\n",
    "    non_uni_housing = pd.merge( uni_town, housing, how='outer', left_on=['State','RegionName'], right_index=True).reset_index(drop=True)\n",
    "    \n",
    "    # Expreção para o t-test: price_ratio=quarter_before_recession/recession_bottom\n",
    "    price_ratio_uni = (uni_housing[uni_housing.columns[uni_housing.columns.get_loc(reces_start)-1]]/\n",
    "                       uni_housing[uni_housing.columns[uni_housing.columns.get_loc(reces_bottom)]])\n",
    "    \n",
    "    price_ratio_non_uni = (non_uni_housing[non_uni_housing.columns[non_uni_housing.columns.get_loc(reces_start)-1]]/\n",
    "                           non_uni_housing[non_uni_housing.columns[non_uni_housing.columns.get_loc(reces_bottom)]])\n",
    "    \n",
    "    # Teste de t de student para verificar a hipotese\n",
    "    t_test = ttest_ind(price_ratio_uni.dropna(),price_ratio_non_uni.dropna())\n",
    "    \n",
    "    if(t_test[1]>0.01):\n",
    "        return (False, t_test[1],\"non-university town\")\n",
    "    else:\n",
    "        return (True, t_test[1], \"university town\")\n",
    "#print(run_ttest())"
   ]
  },
  {
   "cell_type": "code",
   "execution_count": null,
   "metadata": {
    "collapsed": true
   },
   "outputs": [],
   "source": []
  },
  {
   "cell_type": "code",
   "execution_count": null,
   "metadata": {
    "collapsed": true
   },
   "outputs": [],
   "source": []
  }
 ],
 "metadata": {
  "coursera": {
   "course_slug": "python-data-analysis",
   "graded_item_id": "Il9Fx",
   "launcher_item_id": "TeDW0",
   "part_id": "WGlun"
  },
  "kernelspec": {
   "display_name": "Python 3",
   "language": "python",
   "name": "python3"
  },
  "language_info": {
   "codemirror_mode": {
    "name": "ipython",
    "version": 3
   },
   "file_extension": ".py",
   "mimetype": "text/x-python",
   "name": "python",
   "nbconvert_exporter": "python",
   "pygments_lexer": "ipython3",
   "version": "3.7.9"
  },
  "umich": {
   "id": "Assignment 4",
   "version": "1.1"
  }
 },
 "nbformat": 4,
 "nbformat_minor": 1
}
